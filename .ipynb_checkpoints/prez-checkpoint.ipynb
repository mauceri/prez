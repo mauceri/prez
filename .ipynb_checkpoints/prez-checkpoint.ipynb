{
 "cells": [
  {
   "cell_type": "markdown",
   "metadata": {
    "slideshow": {
     "slide_type": "slide"
    }
   },
   "source": [
    "## ML & NLP a brief account\n",
    " ### - The roots                     \n",
    " ### - Embeddings                    \n",
    " ### - Recurrent Neural Networks    \n",
    " ### - Attention is all you need \n",
    " ### - Applications \n",
    " "
   ]
  },
  {
   "cell_type": "markdown",
   "metadata": {
    "slideshow": {
     "slide_type": "slide"
    }
   },
   "source": [
    "## The roots\n",
    "\n",
    "\n",
    "\n",
    "### - Vector space model\n",
    "\n",
    "### - Latent Semantic analysis / Latent Dirichlet Analysis\n",
    "\n",
    "\n",
    "\n",
    "\n",
    "\n"
   ]
  },
  {
   "cell_type": "markdown",
   "metadata": {
    "slideshow": {
     "slide_type": "subslide"
    }
   },
   "source": [
    "### The vector space model\n",
    "It all started with Salton in 1975 and his vector space model\n",
    "\n",
    "![vsm](Vector_space_model.jpg)"
   ]
  },
  {
   "cell_type": "markdown",
   "metadata": {
    "slideshow": {
     "slide_type": "subslide"
    }
   },
   "source": [
    "### LSA & LDA\n",
    "The main limitation of the Vector Space Model lies in its incapacity to detect close documents which do have common terms. For instance : \"this is a superb kitty\" and \"it's a beautiful cat\"\n",
    "\n",
    "![lsalda](LSA-LDA.png)"
   ]
  },
  {
   "cell_type": "markdown",
   "metadata": {
    "slideshow": {
     "slide_type": "subslide"
    }
   },
   "source": [
    "## Embeddings\n",
    "The idea of reducing the dimensions of the vector space model to highlight semantic proximities by other means. [A go0d Medium article](https://towardsdatascience.com/introduction-to-word-embedding-and-word2vec-652d0c2060fa)\n",
    "\n",
    "### CBOW\n",
    "![lsalda](CBOW.png) \n",
    "\n",
    "\n",
    "\n"
   ]
  },
  {
   "cell_type": "markdown",
   "metadata": {
    "slideshow": {
     "slide_type": "subslide"
    }
   },
   "source": [
    "## Embeddings\n",
    "\n",
    "### SkipGram\n",
    "Almost the reverse model\n",
    "![lsalda](SkipGram.png)"
   ]
  },
  {
   "cell_type": "markdown",
   "metadata": {
    "slideshow": {
     "slide_type": "slide"
    }
   },
   "source": [
    "## Recurrent Neural Networks\n",
    "![rnn](rnn.jpg)"
   ]
  },
  {
   "cell_type": "code",
   "execution_count": null,
   "metadata": {},
   "outputs": [],
   "source": []
  }
 ],
 "metadata": {
  "celltoolbar": "Slideshow",
  "kernelspec": {
   "display_name": "Python 3",
   "language": "python",
   "name": "python3"
  },
  "language_info": {
   "codemirror_mode": {
    "name": "ipython",
    "version": 3
   },
   "file_extension": ".py",
   "mimetype": "text/x-python",
   "name": "python",
   "nbconvert_exporter": "python",
   "pygments_lexer": "ipython3",
   "version": "3.7.3"
  },
  "livereveal": {
   "scroll": true,
   "start_slideshow_at": "selected",
   "theme": "sky",
   "transition": "zoom"
  }
 },
 "nbformat": 4,
 "nbformat_minor": 2
}
